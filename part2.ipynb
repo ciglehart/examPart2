{
 "cells": [
  {
   "cell_type": "markdown",
   "metadata": {
    "slideshow": {
     "slide_type": "-"
    }
   },
   "source": [
    "# Exam : part 2\n",
    "You should do the following:\n",
    "* Load the nifti file in the data directory\n",
    "* Display the images $ 128 \\times 128 \\times 8 $ (where 8 is the number of RF channels)\n",
    "* Combine data acquired from different RF channels\n",
    "* Display the combined image"
   ]
  },
  {
   "cell_type": "code",
   "execution_count": 1,
   "metadata": {
    "collapsed": true
   },
   "outputs": [],
   "source": [
    "push!(LOAD_PATH,\"library\");\n",
    "using Read_NIfTI1_real\n",
    "using PyPlot\n",
    "using NK_tools"
   ]
  }
 ],
 "metadata": {
  "celltoolbar": "Raw Cell Format",
  "kernelspec": {
   "display_name": "Julia 0.6.0",
   "language": "julia",
   "name": "julia-0.6"
  },
  "language_info": {
   "file_extension": ".jl",
   "mimetype": "application/julia",
   "name": "julia",
   "version": "0.6.0"
  }
 },
 "nbformat": 4,
 "nbformat_minor": 2
}
